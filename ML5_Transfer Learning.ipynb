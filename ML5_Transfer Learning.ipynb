{
 "cells": [
  {
   "cell_type": "code",
   "execution_count": 3,
   "id": "51ff0218",
   "metadata": {},
   "outputs": [],
   "source": [
    "from sklearn.model_selection import train_test_split\n",
    "import numpy as np\n",
    "import matplotlib.pyplot as plt\n",
    "from sklearn.preprocessing import StandardScaler\n",
    "import keras\n",
    "from keras.models import Sequential\n",
    "from keras.layers import Dense"
   ]
  },
  {
   "cell_type": "code",
   "execution_count": 4,
   "id": "09b04f3f",
   "metadata": {},
   "outputs": [],
   "source": [
    "import tensorflow as tf\n",
    "\n",
    "from tensorflow.keras import datasets, layers, models"
   ]
  },
  {
   "cell_type": "code",
   "execution_count": 8,
   "id": "0c76023e",
   "metadata": {},
   "outputs": [
    {
     "name": "stdout",
     "output_type": "stream",
     "text": [
      "['Bear', 'Bird', 'Cat', 'Cow', 'Deer', 'Dog', 'Dolphin', 'Elephant', 'Giraffe', 'Horse', 'Kangaroo', 'Lion', 'Panda']\n",
      "Bear\n",
      "Bird\n",
      "Cat\n",
      "Cow\n",
      "Deer\n",
      "Dog\n",
      "Dolphin\n",
      "Elephant\n",
      "Giraffe\n",
      "Horse\n",
      "Kangaroo\n",
      "Lion\n",
      "Panda\n"
     ]
    }
   ],
   "source": [
    "import os\n",
    "import shutil\n",
    "import numpy as np\n",
    "import random \n",
    "folder_path = r\"dataset/animal_data/\" # Put the path to your dataset\n",
    "ratio_train = .8 # Ratio of images in the train dataset\n",
    "\n",
    "directories = [name for name in os.listdir(folder_path) \n",
    "               if os.path.isdir(os.path.join(folder_path, name))]\n",
    "\n",
    "directories.pop(-1)\n",
    "directories.pop(-1)\n",
    "print(directories)\n",
    "\n",
    "\n",
    "for dir in directories: \n",
    "    print(dir)\n",
    "    src_dir = folder_path+dir\n",
    "    files = [f for f in os.listdir(src_dir) if os.path.isfile(os.path.join(src_dir, f))]\n",
    "    n_files = len(files)\n",
    "    train_size = round(ratio_train * n_files)\n",
    "    idx_train = random.sample(range(n_files), train_size)\n",
    "    idx_test = list(set(range(n_files)) - set(idx_train))\n",
    "    dst_dir = folder_path+'_train/'+dir+'/'\n",
    "\n",
    "# Make sure destination folder exists\n",
    "    os.makedirs(dst_dir, exist_ok=True)\n",
    "\n",
    "# Loop over selected indices and copy files\n",
    "    for idx in idx_train:\n",
    "        file_name = files[idx]\n",
    "        src_path = os.path.join(src_dir, file_name)\n",
    "        dst_path = os.path.join(dst_dir, file_name)\n",
    "        shutil.copy(src_path, dst_path)\n",
    "    dst_dir = folder_path+'_test/'+dir+'/'\n",
    "\n",
    "# Make sure destination folder exists\n",
    "    os.makedirs(dst_dir, exist_ok=True)\n",
    "\n",
    "# Loop over selected indices and copy files\n",
    "    for idx in idx_test:\n",
    "        file_name = files[idx]\n",
    "        src_path = os.path.join(src_dir, file_name)\n",
    "        dst_path = os.path.join(dst_dir, file_name)\n",
    "        shutil.copy(src_path, dst_path)"
   ]
  },
  {
   "cell_type": "code",
   "execution_count": null,
   "id": "9ed7dbbc",
   "metadata": {},
   "outputs": [],
   "source": []
  },
  {
   "cell_type": "code",
   "execution_count": null,
   "id": "f1d2572e",
   "metadata": {},
   "outputs": [],
   "source": []
  }
 ],
 "metadata": {
  "kernelspec": {
   "display_name": "ml5_deeplearning (3.12.12)",
   "language": "python",
   "name": "python3"
  },
  "language_info": {
   "codemirror_mode": {
    "name": "ipython",
    "version": 3
   },
   "file_extension": ".py",
   "mimetype": "text/x-python",
   "name": "python",
   "nbconvert_exporter": "python",
   "pygments_lexer": "ipython3",
   "version": "3.12.12"
  }
 },
 "nbformat": 4,
 "nbformat_minor": 5
}
